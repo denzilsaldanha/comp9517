{
 "cells": [
  {
   "cell_type": "code",
   "execution_count": 1,
   "metadata": {},
   "outputs": [],
   "source": [
    "import cv2\n",
    "import glob\n",
    "import numpy as np\n",
    "from  matplotlib import pyplot as plt\n",
    "\n",
    "\n",
    "filenames = glob.glob(\"sequence/*.jpg\")\n",
    "frames = [cv2.imread(img) for img in filenames]\n",
    "\n",
    "\n",
    "frames= np.array(frames)"
   ]
  },
  {
   "cell_type": "code",
   "execution_count": 22,
   "metadata": {},
   "outputs": [],
   "source": [
    "pedestrian_classifier = cv2.CascadeClassifier(cv2.data.haarcascades + 'haarcascade_fullbody.xml')"
   ]
  },
  {
   "cell_type": "code",
   "execution_count": 35,
   "metadata": {},
   "outputs": [],
   "source": [
    "frame_array = []\n",
    "for i in frames:\n",
    "    gray = cv2.cvtColor(i, cv2.COLOR_BGR2GRAY)\n",
    "    pedestrians = pedestrian_classifier.detectMultiScale( gray,1.5,6)\n",
    "#     print(pedestrians)\n",
    "    for(a,b,c,d) in pedestrians:\n",
    "            cv2.rectangle(i,(a,b),(a+c,b+d),(0,255,210),4)\n",
    "    frame_array.append(i)\n",
    "    cv2.imshow('video', i) \n",
    "    height, width, layers = i.shape\n",
    "    size = (width,height)\n",
    "    if cv2.waitKey(33) == 27:\n",
    "        break\n",
    "cv2.destroyAllWindows()"
   ]
  },
  {
   "cell_type": "code",
   "execution_count": 33,
   "metadata": {},
   "outputs": [],
   "source": [
    "out = cv2.VideoWriter('video.avi',cv2.VideoWriter_fourcc(*'DIVX'), 10, size)\n",
    "for i in range(len(frame_array)):\n",
    "    # writing to a image array\n",
    "    out.write(frame_array[i])\n",
    "out.release()"
   ]
  },
  {
   "cell_type": "code",
   "execution_count": null,
   "metadata": {},
   "outputs": [],
   "source": []
  }
 ],
 "metadata": {
  "kernelspec": {
   "display_name": "Python 3",
   "language": "python",
   "name": "python3"
  },
  "language_info": {
   "codemirror_mode": {
    "name": "ipython",
    "version": 3
   },
   "file_extension": ".py",
   "mimetype": "text/x-python",
   "name": "python",
   "nbconvert_exporter": "python",
   "pygments_lexer": "ipython3",
   "version": "3.7.4"
  }
 },
 "nbformat": 4,
 "nbformat_minor": 2
}
