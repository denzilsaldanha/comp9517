{
  "nbformat": 4,
  "nbformat_minor": 0,
  "metadata": {
    "colab": {
      "name": "frcnn_yingh.ipynb",
      "provenance": [],
      "collapsed_sections": [],
      "toc_visible": true
    },
    "kernelspec": {
      "name": "python3",
      "display_name": "Python 3"
    }
  },
  "cells": [
    {
      "cell_type": "code",
      "metadata": {
        "id": "TdjX8HzGBGBz",
        "colab_type": "code",
        "colab": {}
      },
      "source": [
        "from google.colab import drive\n",
        "drive.mount('/content/drive')"
      ],
      "execution_count": 0,
      "outputs": []
    },
    {
      "cell_type": "markdown",
      "metadata": {
        "id": "TgeKGmtvH0iq",
        "colab_type": "text"
      },
      "source": [
        "# Modules"
      ]
    },
    {
      "cell_type": "markdown",
      "metadata": {
        "id": "WtUE3AyzIsoE",
        "colab_type": "text"
      },
      "source": [
        "## tensorflow_detection_api"
      ]
    },
    {
      "cell_type": "code",
      "metadata": {
        "id": "-33ckT-CIPM6",
        "colab_type": "code",
        "colab": {}
      },
      "source": [
        "import tensorflow.compat.v1 as tf\n",
        "tf.disable_v2_behavior()\n",
        "import numpy as np\n",
        "from collections import deque\n",
        "import cv2\n",
        "import time\n",
        "import random\n",
        "\n",
        "class DetectorAPI:\n",
        "    def __init__(self, path_to_ckpt):\n",
        "        self.path_to_ckpt = path_to_ckpt\n",
        "\n",
        "        self.detection_graph = tf.Graph()\n",
        "        with self.detection_graph.as_default():\n",
        "            od_graph_def = tf.GraphDef()\n",
        "            with tf.gfile.GFile(self.path_to_ckpt, 'rb') as fid:\n",
        "                serialized_graph = fid.read()\n",
        "                od_graph_def.ParseFromString(serialized_graph)\n",
        "                tf.import_graph_def(od_graph_def, name='')\n",
        "\n",
        "        self.default_graph = self.detection_graph.as_default()\n",
        "        self.sess = tf.Session(graph=self.detection_graph)\n",
        "\n",
        "        # Definite input and output Tensors for detection_graph\n",
        "        self.image_tensor = self.detection_graph.get_tensor_by_name('image_tensor:0')\n",
        "        # Each box represents a part of the image where a particular object was detected.\n",
        "        self.detection_boxes = self.detection_graph.get_tensor_by_name('detection_boxes:0')\n",
        "        # Each score represent how level of confidence for each of the objects.\n",
        "        # Score is shown on the result image, together with the class label.\n",
        "        self.detection_scores = self.detection_graph.get_tensor_by_name('detection_scores:0')\n",
        "        self.detection_classes = self.detection_graph.get_tensor_by_name('detection_classes:0')\n",
        "        self.num_detections = self.detection_graph.get_tensor_by_name('num_detections:0')\n",
        "\n",
        "    def processFrame(self, image):\n",
        "        # Expand dimensions since the trained_model expects images to have shape: [1, None, None, 3]\n",
        "        image_np_expanded = np.expand_dims(image, axis=0)\n",
        "        # Actual detection.\n",
        "        start_time = time.time()\n",
        "        (boxes, scores, classes, num) = self.sess.run(\n",
        "            [self.detection_boxes, self.detection_scores, self.detection_classes, self.num_detections],\n",
        "            feed_dict={self.image_tensor: image_np_expanded})\n",
        "        end_time = time.time()\n",
        "\n",
        "        print(\"Elapsed Time:\", end_time-start_time)\n",
        "\n",
        "        im_height, im_width,_ = image.shape\n",
        "        \n",
        "        boxes_list = [None for i in range(boxes.shape[1])]\n",
        "        for i in range(boxes.shape[1]):\n",
        "            boxes_list[i] = (int(boxes[0,i,0] * im_height),\n",
        "                        int(boxes[0,i,1]*im_width),\n",
        "                        int(boxes[0,i,2] * im_height),\n",
        "                        int(boxes[0,i,3]*im_width))\n",
        "\n",
        "        return boxes_list, scores[0].tolist(), [int(x) for x in classes[0].tolist()], int(num[0])\n",
        "    \n",
        "    def drawTrail(self, pts_dict, image):\n",
        "      track_colors = [(255, 0, 0), (0, 255, 0), (0, 0, 255), (255, 255, 0),\n",
        "                    (0, 255, 255), (255, 0, 255), (255, 127, 255),\n",
        "                    (127, 0, 255), (127, 0, 127)]\n",
        "      for img_ids in pts_dict.keys():\n",
        "          pts = pts_dict[img_ids]\n",
        "          for i in range(1,len(pts)):\n",
        "              if pts[i - 1] is None or pts[i] is None:\n",
        "                  continue\n",
        "              # thickness = int(np.sqrt(64 / float(i + 1)) * 2.5)\n",
        "              # print('Random Color', random.choice(track_colors))\n",
        "              cv2.line(image, pts[i - 1], pts[i], (225,225,0), 2)\n",
        "      return image\n",
        "\n",
        "    def close(self):\n",
        "        self.sess.close()\n",
        "        self.default_graph.close()\n"
      ],
      "execution_count": 0,
      "outputs": []
    },
    {
      "cell_type": "markdown",
      "metadata": {
        "id": "8oFRcDxbHn3g",
        "colab_type": "text"
      },
      "source": [
        "## centroid_tracking"
      ]
    },
    {
      "cell_type": "code",
      "metadata": {
        "id": "v7fdqrUIEo6A",
        "colab_type": "code",
        "colab": {}
      },
      "source": [
        "from scipy.spatial import distance as dist\n",
        "from collections import OrderedDict\n",
        "import numpy as np\n",
        "class CentroidTracker():\n",
        "    def __init__(self, maxDisappeared=20):\n",
        "        # initialize the next unique object ID along with two ordered\n",
        "        # dictionaries used to keep track of mapping a given object\n",
        "        # ID to its centroid and number of consecutive frames it has\n",
        "        # been marked as \"disappeared\", respectively\n",
        "        self.nextObjectID = 0\n",
        "        self.objects = OrderedDict()\n",
        "        self.disappeared = OrderedDict()\n",
        "        # store the number of maximum consecutive frames a given\n",
        "        # object is allowed to be marked as \"disappeared\" until we\n",
        "        # need to deregister the object from tracking\n",
        "        self.maxDisappeared = maxDisappeared\n",
        "    def register(self, centroid):\n",
        "        # when registering an object we use the next available object\n",
        "        # ID to store the centroid\n",
        "        self.objects[self.nextObjectID] = centroid\n",
        "        self.disappeared[self.nextObjectID] = 0\n",
        "        self.nextObjectID += 1\n",
        "    def deregister(self, objectID):\n",
        "        # to deregister an object ID we delete the object ID from\n",
        "        # both of our respective dictionaries\n",
        "        del self.objects[objectID]\n",
        "        del self.disappeared[objectID]\n",
        "    def update(self, rects):\n",
        "        # check to see if the list of input bounding box rectangles\n",
        "        # is empty\n",
        "        if len(rects) == 0:\n",
        "            # loop over any existing tracked objects and mark them\n",
        "            # as disappeared\n",
        "            for objectID in list(self.disappeared.keys()):\n",
        "                self.disappeared[objectID] += 1\n",
        "                # if we have reached a maximum number of consecutive\n",
        "                # frames where a given object has been marked as\n",
        "                # missing, deregister it\n",
        "                if self.disappeared[objectID] > self.maxDisappeared:\n",
        "                    self.deregister(objectID)\n",
        "            # return early as there are no centroids or tracking info\n",
        "            # to update\n",
        "            return self.objects\n",
        "        inputCentroids = np.zeros((len(rects), 2), dtype=\"int\")\n",
        "        # loop over the bounding box rectangles\n",
        "#         print(enumerate(rects))\n",
        "        \n",
        "        for (i, (startX, startY, endX, endY)) in enumerate(rects):\n",
        "            # use the bounding box coordinates to derive the centroid\n",
        "            cX = int((startX + endX) / 2.0)\n",
        "            cY = int((startY + endY) / 2.0)\n",
        "            inputCentroids[i] = (cX, cY)\n",
        "        if len(self.objects) == 0:\n",
        "            for i in range(0, len(inputCentroids)):\n",
        "                self.register(inputCentroids[i])\n",
        "                        # otherwise, are are currently tracking objects so we need to\n",
        "        # try to match the input centroids to existing object\n",
        "        # centroids\n",
        "        else:\n",
        "            # grab the set of object IDs and corresponding centroids\n",
        "            objectIDs = list(self.objects.keys())\n",
        "            objectCentroids = list(self.objects.values())\n",
        "            # compute the distance between each pair of object\n",
        "            # centroids and input centroids, respectively -- our\n",
        "            # goal will be to match an input centroid to an existing\n",
        "            # object centroid\n",
        "            D = dist.cdist(np.array(objectCentroids), inputCentroids)\n",
        "            # in order to perform this matching we must (1) find the\n",
        "            # smallest value in each row and then (2) sort the row\n",
        "            # indexes based on their minimum values so that the row\n",
        "            # with the smallest value is at the *front* of the index\n",
        "            # list\n",
        "            rows = D.min(axis=1).argsort()\n",
        "            # next, we perform a similar process on the columns by\n",
        "            # finding the smallest value in each column and then\n",
        "            # sorting using the previously computed row index list\n",
        "            cols = D.argmin(axis=1)[rows]\n",
        "            # in order to determine if we need to update, register,\n",
        "            # or deregister an object we need to keep track of which\n",
        "            # of the rows and column indexes we have already examined\n",
        "            usedRows = set()\n",
        "            usedCols = set()\n",
        "            # loop over the combination of the (row, column) index\n",
        "            # tuples\n",
        "            for (row, col) in zip(rows, cols):\n",
        "                # if we have already examined either the row or\n",
        "                # column value before, ignore it\n",
        "                # val\n",
        "                if row in usedRows or col in usedCols:\n",
        "                    continue\n",
        "                # otherwise, grab the object ID for the current row,\n",
        "                # set its new centroid, and reset the disappeared\n",
        "                # counter\n",
        "                objectID = objectIDs[row]\n",
        "                self.objects[objectID] = inputCentroids[col]\n",
        "                self.disappeared[objectID] = 0\n",
        "                # indicate that we have examined each of the row and\n",
        "                # column indexes, respectively\n",
        "                usedRows.add(row)\n",
        "                usedCols.add(col)\n",
        "                # compute both the row and column index we have NOT yet\n",
        "            # examined\n",
        "            unusedRows = set(range(0, D.shape[0])).difference(usedRows)\n",
        "            unusedCols = set(range(0, D.shape[1])).difference(usedCols)\n",
        "                        # in the event that the number of object centroids is\n",
        "            # equal or greater than the number of input centroids\n",
        "            # we need to check and see if some of these objects have\n",
        "            # potentially disappeared\n",
        "            if D.shape[0] >= D.shape[1]:\n",
        "                # loop over the unused row indexes\n",
        "                for row in unusedRows:\n",
        "                    # grab the object ID for the corresponding row\n",
        "                    # index and increment the disappeared counter\n",
        "                    objectID = objectIDs[row]\n",
        "                    self.disappeared[objectID] += 1\n",
        "                    # check to see if the number of consecutive\n",
        "                    # frames the object has been marked \"disappeared\"\n",
        "                    # for warrants deregistering the object\n",
        "                    if self.disappeared[objectID] > self.maxDisappeared:\n",
        "                        self.deregister(objectID)\n",
        "            # otherwise, if the number of input centroids is greater\n",
        "            # than the number of existing object centroids we need to\n",
        "            # register each new input centroid as a trackable object\n",
        "            else:\n",
        "                for col in unusedCols:\n",
        "                    self.register(inputCentroids[col])\n",
        "        # return the set of trackable objects\n",
        "        return self.objects"
      ],
      "execution_count": 0,
      "outputs": []
    },
    {
      "cell_type": "markdown",
      "metadata": {
        "id": "fcTzjhcCH_S0",
        "colab_type": "text"
      },
      "source": [
        "## people_in_box"
      ]
    },
    {
      "cell_type": "code",
      "metadata": {
        "id": "X5oMYs37Mhys",
        "colab_type": "code",
        "colab": {}
      },
      "source": [
        "from collections import OrderedDict\n",
        "import numpy as np\n",
        "\n",
        "class People_In_Box(object):\n",
        "  \n",
        "    # Class to detect people in a box\n",
        "    def __init__(self, frame, centers, rects):\n",
        "        # self.people_in_box = 0\n",
        "        self.frame = frame\n",
        "        self.centers = centers\n",
        "        self.rects = rects\n",
        "\n",
        "    # Function to count the people in the box\n",
        "    def count_people_in_box(self, x1, y1, x2, y2):\n",
        "      people_in_box = 0\n",
        "      # pts = []\n",
        "      pid = 0\n",
        "      pids = []\n",
        "\n",
        "      # Extracting the coordinates from the centroids\n",
        "      for x, y in self.centers:\n",
        "          cX = x\n",
        "          cY = y\n",
        "          \n",
        "          # Increasing count of people inside the box\n",
        "          if cX > x1 and cX < x2 and cY > y1 and cY < y2:\n",
        "              people_in_box += 1\n",
        "              # pts.append([cX, cY])\n",
        "              pids.append(pid)\n",
        "              \n",
        "          pid += 1\n",
        "\n",
        "      # Returning the count, centroid index and centroid coordinates\n",
        "      return people_in_box, pids\n",
        "\n",
        "    # Function to merge group with common pids\n",
        "    def merge(self, lists, results=None):\n",
        "\n",
        "      if results is None:\n",
        "          results = []\n",
        "\n",
        "      if not lists:\n",
        "          return results\n",
        "\n",
        "      first = lists[0]\n",
        "      merged = []\n",
        "      output = []\n",
        "\n",
        "      for li in lists[1:]:\n",
        "          for i in first:\n",
        "              if i in li:\n",
        "                  merged = merged + li\n",
        "                  break\n",
        "          else:\n",
        "              output.append(li)\n",
        "\n",
        "      merged = merged + first\n",
        "      results.append(list(set(merged)))\n",
        "\n",
        "      return self.merge(output, results)\n",
        "        \n",
        "    # Function to detect group in the frame\n",
        "    def detect_group(self, threshold):\n",
        "      \"\"\"\n",
        "      detect groups of people based on the centroid distance threshold\n",
        "      output: groups of indices of centers\n",
        "      \"\"\"\n",
        "      groups = []\n",
        "      # gid = 0\n",
        "      # pid = 0\n",
        "\n",
        "      # Extracting the coordinates from the centroids\n",
        "      for x, y in self.centers:\n",
        "        x1 = x - threshold\n",
        "        y1 = y - threshold\n",
        "        x2 = x + threshold\n",
        "        y2 = y + threshold\n",
        "\n",
        "        # Extracting group information\n",
        "        count, pid_in_group = self.count_people_in_box(x1, y1, x2, y2)\n",
        "        if pid_in_group not in groups:\n",
        "          # print(pid_in_group)\n",
        "          groups.append(pid_in_group)\n",
        "\n",
        "      # Returning groups of indices of centers\n",
        "      return self.merge(groups)\n",
        "\n",
        "    # Function to count the people in group and construct group bounding box\n",
        "    def count_people_in_group(self, groups):\n",
        "\n",
        "      people_in_group = 0\n",
        "      people_alone = 0\n",
        "      group_boxs = []\n",
        "      margin = 5\n",
        "\n",
        "      if len(groups) > 0:\n",
        "\n",
        "        for cluster in groups:\n",
        "          \n",
        "          # Calculate bounding box coordinates of groups in the frame\n",
        "          if len(cluster) > 1:\n",
        "            people_in_group += len(cluster)\n",
        "            boxs = [self.rects[i] for i in cluster]\n",
        "            boxs = np.stack(boxs, axis=1)\n",
        "\n",
        "            x1 = max(min(boxs[1])-margin, 1)\n",
        "            y1 = max(min(boxs[0])-margin, 1)\n",
        "            x2 = min(max(boxs[3])+margin, self.frame.shape[1] - 1)\n",
        "            y2 = min(max(boxs[2])+margin, self.frame.shape[0] - 1)\n",
        "            \n",
        "            group_boxs.append([x1,y1,x2,y2])\n",
        "\n",
        "          else:\n",
        "            people_alone += 1\n",
        "\n",
        "      return people_in_group, people_alone, group_boxs"
      ],
      "execution_count": 0,
      "outputs": []
    },
    {
      "cell_type": "markdown",
      "metadata": {
        "id": "m_e78f9tKrP2",
        "colab_type": "text"
      },
      "source": [
        "\n",
        "# Main"
      ]
    },
    {
      "cell_type": "code",
      "metadata": {
        "id": "NfabORKTBQIs",
        "colab_type": "code",
        "outputId": "c04edae8-9bbc-4e56-94ea-e2c55973d233",
        "colab": {
          "base_uri": "https://localhost:8080/",
          "height": 34
        }
      },
      "source": [
        "import cv2\n",
        "import os, sys\n",
        "import numpy as np\n",
        "from  matplotlib import pyplot as plt\n",
        "from collections import defaultdict \n",
        "\n",
        "print(\"Done\")"
      ],
      "execution_count": 5,
      "outputs": [
        {
          "output_type": "stream",
          "text": [
            "Done\n"
          ],
          "name": "stdout"
        }
      ]
    },
    {
      "cell_type": "code",
      "metadata": {
        "id": "gCEU4LbTzBNB",
        "colab_type": "code",
        "colab": {}
      },
      "source": [
        "# Initialise\n",
        "\n",
        "img_path = 'drive/My Drive/comp9517/sequence'\n",
        "out_path = 'drive/My Drive/comp9517/output/'\n",
        "model_path = 'drive/My Drive/comp9517/faster_rcnn_inception_v2_coco_2018_01_28/frozen_inference_graph.pb'\n",
        "\n",
        "writeVideo_flag = True\n",
        "out_video = 'drive/My Drive/comp9517/tensor_video_counting.avi'\n",
        "\n",
        "# counter = 0\n",
        "\n",
        "odapi = DetectorAPI(path_to_ckpt=model_path)\n",
        "threshold = 0.7\n",
        "\n",
        "np.random.seed(123)\n",
        "color = np.random.choice(range(256), size=3)\n",
        "color = [int(c) for c in color]\n",
        "\n",
        "# define box for task 2- to be changed to stdin input\n",
        "bxx = 150\n",
        "bxy = 100\n",
        "bxw = 450\n",
        "bxh = 350\n",
        "\n",
        "fps = 10"
      ],
      "execution_count": 0,
      "outputs": []
    },
    {
      "cell_type": "code",
      "metadata": {
        "id": "6U-Ch_euRiWq",
        "colab_type": "code",
        "colab": {}
      },
      "source": [
        "def get_file_names(img_path):\n",
        "    \n",
        "    files = []    \n",
        "    for (dirpath, dirnames, filenames) in os.walk(img_path):\n",
        "        for file in filenames:\n",
        "            files.append(file)\n",
        "    \n",
        "    return files"
      ],
      "execution_count": 0,
      "outputs": []
    },
    {
      "cell_type": "code",
      "metadata": {
        "id": "-UZlvWsPLl3J",
        "colab_type": "code",
        "colab": {}
      },
      "source": [
        "def save_to_video():\n",
        "  print(\"saving to video..\")\n",
        "  out_files = get_file_names(out_path)\n",
        "  out_files.sort()\n",
        "\n",
        "  img = cv2.imread(os.path.join(out_path, out_files[0]))\n",
        "  height , width , layers =  img.shape\n",
        "  \n",
        "  fourcc =  cv2.VideoWriter_fourcc('M', 'J', 'P', 'G')\n",
        "  # fourcc = cv2.VideoWriter_fourcc(*'mp4v')\n",
        "  # fourcc = cv2.VideoWriter_fourcc(*'XVID')\n",
        "  \n",
        "  out = cv2.VideoWriter(out_video, fourcc, fps, (width,height))\n",
        "  \n",
        "  print(\"output video...\")\n",
        "  for f in out_files:\n",
        "      img = cv2.imread(os.path.join(out_path, f))\n",
        "      # img = cv2.cvtColor(img, cv2.COLOR_BGR2RGB)\n",
        "      out.write(img)\n",
        "      \n",
        "  out.release()\n",
        "  cv2.destroyAllWindows()"
      ],
      "execution_count": 0,
      "outputs": []
    },
    {
      "cell_type": "code",
      "metadata": {
        "id": "rsqXXeFkMMHB",
        "colab_type": "code",
        "colab": {}
      },
      "source": [
        "filenames = get_file_names(img_path)\n",
        "filenames.sort()\n"
      ],
      "execution_count": 0,
      "outputs": []
    },
    {
      "cell_type": "code",
      "metadata": {
        "id": "1p_tr8sYBWDY",
        "colab_type": "code",
        "colab": {}
      },
      "source": [
        "filenames[:10]"
      ],
      "execution_count": 0,
      "outputs": []
    },
    {
      "cell_type": "code",
      "metadata": {
        "id": "rMhIZVRzIkjv",
        "colab_type": "code",
        "colab": {}
      },
      "source": [
        "# if __name__ == \"__main__\":\n",
        "\n",
        "start = time.time()\n",
        "people_array = []\n",
        "peopleingroups = []\n",
        "group_array = []\n",
        "frame_array = []\n",
        "ct = CentroidTracker()\n",
        "#Default dictionary of format {id:[[centroid[0],centroid[1]],..], id[...]}\n",
        "pts_dict = defaultdict(lambda: deque(maxlen = 10))\n",
        "\n",
        "for f in filenames:\n",
        "\n",
        "    if not f.lower().endswith(('.bmp', '.jpeg', '.jpg', '.png', '.tif', '.tiff')):\n",
        "            continue\n",
        "\n",
        "    print(f)\n",
        "\n",
        "    img = cv2.imread(os.path.join(img_path,f))\n",
        "\n",
        "    # Start Task 1\n",
        "    # Results of pretrained frcnn detection. \n",
        "    boxes, scores, classes, num = odapi.processFrame(img)\n",
        "\n",
        "    rects = []\n",
        "    rects_centers = []\n",
        "    n = 0\n",
        "\n",
        "    for i in range(len(boxes)):\n",
        "        # keep bounding boxes o20f human (Class 1) with probability above threshold \n",
        "        # and height greater than 40\n",
        "        if classes[i] == 1  and scores[i] > threshold and (boxes[i][2] - boxes[i][0]) >= 40:\n",
        "\n",
        "            box = boxes[i]\n",
        "            # x1 = box[1]\n",
        "            # y1 = box[0]\n",
        "            # x2 = box[3]\n",
        "            # y2 = box[2]\n",
        "\n",
        "            cv2.rectangle(img,(box[1],box[0]),(box[3],box[2]),(color),2)\n",
        "            rects.append(box)\n",
        "\n",
        "            cx = int((box[1]+box[3])/2)\n",
        "            cy = int((box[0]+box[2])/2)\n",
        "            # cv2.circle(img,(cx, cy),5,(color),-1)\n",
        "            rects_centers.append([cx, cy])\n",
        "\n",
        "            # number of pedestrian detected\n",
        "            n += 1\n",
        "\n",
        "    objects = ct.update(rects)\n",
        "    centers=[]\n",
        "    # loop over the tracked objects\n",
        "    for (objectID, centroid) in objects.items():\n",
        "        # draw both the ID of the object and the centroid of the\n",
        "        # object on the output frame\n",
        "        text = \"ID {}\".format(objectID)\n",
        "        cv2.putText(img, text, (centroid[1] - 10, centroid[0] - 10),\n",
        "            cv2.FONT_HERSHEY_SIMPLEX, 0.5, (225,225,0), 2)\n",
        "        cv2.circle(img, (centroid[1], centroid[0]), 4, (225,225,0), -1)\n",
        "        centers.append([centroid[1],centroid[0]])          \n",
        "        pts_dict[objectID].append((centroid[1], centroid[0]))\n",
        "        img = odapi.drawTrail(pts_dict, img)  \n",
        "        \n",
        "    print('finish detection and tracking...')\n",
        "\n",
        "    # End Task 1\n",
        "\n",
        "\n",
        "    # Start Task 2 - return the count of the people inside the drawn box\n",
        "\n",
        "    # Initialise Constructor for the People in Box Tracker\n",
        "    people_inside = People_In_Box(img, rects_centers, rects)\n",
        "\n",
        "    peopleInBox, _ = people_inside.count_people_in_box(bxx, bxy, bxx+bxw, bxy+bxh)\n",
        "                                             \n",
        "    # draw user defined bounding rectangle\n",
        "    cv2.rectangle(img, (bxx, bxy), (bxx+bxw, bxy+bxh), \n",
        "                  (255,255,204), 1)\n",
        "    \n",
        "    print('finish counting in the box..')\n",
        "    \n",
        "    # End Task 2\n",
        "\n",
        "\n",
        "    # Start Task 3\n",
        "\n",
        "    # select centroid distance of 37 as group detection threshold\n",
        "    groups = people_inside.detect_group(37)\n",
        "    peopleInGroup, peopleAlone, group_boxs = people_inside.count_people_in_group(groups)\n",
        "    \n",
        "    # draw group bounding boxes\n",
        "    if len(group_boxs) > 0:\n",
        "      for box in group_boxs:\n",
        "        cv2.rectangle(img,(box[0],box[1]),(box[2],box[3]),(51, 225, 255),2)\n",
        "\n",
        "    # Show the count on frame\n",
        "    text_color = [150, 255, 0]\n",
        "    (text_width, text_height), baseline = cv2.getTextSize(\n",
        "            'people detected: ', cv2.FONT_HERSHEY_SIMPLEX, 0.6, 2)\n",
        "    cv2.putText(img, 'people detected: ' + str(n), \n",
        "                (10, 15+(text_height+5)),\n",
        "                cv2.FONT_HERSHEY_SIMPLEX, 0.6, (text_color), 2)\n",
        "    cv2.putText(img, 'people in box: ' + str(peopleInBox), \n",
        "                (10, 15+(text_height+5)*2),\n",
        "                cv2.FONT_HERSHEY_SIMPLEX, 0.6, (text_color), 2)\n",
        "    cv2.putText(img, 'groups detected: ' + str(len(group_boxs)), \n",
        "                (10, 15+(text_height+5)*3),\n",
        "                cv2.FONT_HERSHEY_SIMPLEX, 0.6, (text_color), 2)\n",
        "    cv2.putText(img, 'people in groups: ' + str(peopleInGroup), \n",
        "                (10, 15+(text_height+5)*4),\n",
        "                cv2.FONT_HERSHEY_SIMPLEX, 0.6, (text_color), 2)\n",
        "    cv2.putText(img, 'people alone: ' + str(peopleAlone), \n",
        "                (10, 15+(text_height+5)*5),\n",
        "                cv2.FONT_HERSHEY_SIMPLEX, 0.6, (text_color), 2)\n",
        "    people_array.append(n)\n",
        "    group_array.append(len(group_boxs))\n",
        "    peopleingroups.append(peopleInGroup)\n",
        "\n",
        "    frame_array.append(img)\n",
        "\n",
        "    cv2.imwrite(os.path.join(out_path,f), cv2.cvtColor(img, cv2.COLOR_RGB2BGR))\n",
        "\n",
        "    print('end of', f)\n",
        "    print('\\n')\n",
        "\n",
        "cv2.destroyAllWindows()\n",
        "\n",
        "end = time.time()\n",
        "print('run time:', (end-start))"
      ],
      "execution_count": 0,
      "outputs": []
    },
    {
      "cell_type": "code",
      "metadata": {
        "id": "TNmrPe4Qxuva",
        "colab_type": "code",
        "colab": {}
      },
      "source": [
        "pts_dict"
      ],
      "execution_count": 0,
      "outputs": []
    },
    {
      "cell_type": "code",
      "metadata": {
        "id": "Wmrh5ELeFIUz",
        "colab_type": "code",
        "outputId": "045a1033-d7f4-41e5-81f2-b200bc2fed85",
        "colab": {
          "base_uri": "https://localhost:8080/",
          "height": 51
        }
      },
      "source": [
        "if writeVideo_flag:\n",
        "  save_to_video()"
      ],
      "execution_count": 50,
      "outputs": [
        {
          "output_type": "stream",
          "text": [
            "saving to video..\n",
            "output video...\n"
          ],
          "name": "stdout"
        }
      ]
    },
    {
      "cell_type": "code",
      "metadata": {
        "id": "mwayaQcjVtZP",
        "colab_type": "code",
        "outputId": "2409eabd-c4d8-4792-b63b-ae314ae58a6d",
        "colab": {
          "base_uri": "https://localhost:8080/",
          "height": 269
        }
      },
      "source": [
        "plt.imshow(frame_array[40])\n",
        "plt.show()"
      ],
      "execution_count": 65,
      "outputs": [
        {
          "output_type": "display_data",
          "data": {
            "image/png": "[encoded data removed]",
            "text/plain": [
              "<Figure size 432x288 with 1 Axes>"
            ]
          },
          "metadata": {
            "tags": [],
            "needs_background": "light"
          }
        }
      ]
    },
    {
      "cell_type": "code",
      "metadata": {
        "id": "-Wj8g7uxFKJs",
        "colab_type": "code",
        "colab": {}
      },
      "source": [
        "if __name__ == '__main__':\n",
        "    main()"
      ],
      "execution_count": 0,
      "outputs": []
    },
    {
      "cell_type": "code",
      "metadata": {
        "id": "_ZPnN4jze-QU",
        "colab_type": "code",
        "colab": {}
      },
      "source": [
        "height , width , layers =  frame_array[0].shape \n",
        "fourcc =  cv2.VideoWriter_fourcc('M', 'J', 'P', 'G')\n",
        "# fourcc = 0\n",
        "fps = 10\n",
        "\n",
        "out = cv2.VideoWriter(out_video, fourcc, fps, (width, height))\n",
        " \n",
        "for i in range(len(frame_array)):\n",
        "  img = cv2.cvtColor(frame_array[i], cv2.COLOR_BGR2RGB)\n",
        "  out.write(img)\n",
        "\n",
        "cv2.destroyAllWindows()\n",
        "out.release()"
      ],
      "execution_count": 0,
      "outputs": []
    },
    {
      "cell_type": "markdown",
      "metadata": {
        "id": "qn6Llqv9nd8H",
        "colab_type": "text"
      },
      "source": [
        ""
      ]
    },
    {
      "cell_type": "markdown",
      "metadata": {
        "id": "5VoBMzRNnX5R",
        "colab_type": "text"
      },
      "source": [
        "# Ground Truth"
      ]
    },
    {
      "cell_type": "code",
      "metadata": {
        "id": "J2pg8LmfQ2bp",
        "colab_type": "code",
        "colab": {}
      },
      "source": [
        "import pandas as pd\n",
        "from sklearn import metrics\n"
      ],
      "execution_count": 0,
      "outputs": []
    },
    {
      "cell_type": "code",
      "metadata": {
        "id": "dYO5oP1ESB8U",
        "colab_type": "code",
        "outputId": "d064469c-8fa8-4a22-806b-923e22d46d6c",
        "colab": {
          "base_uri": "https://localhost:8080/",
          "height": 204
        }
      },
      "source": [
        "labels = pd.read_csv('drive/My Drive/comp9517/ground_truth.csv')\n",
        "labels.head()"
      ],
      "execution_count": 36,
      "outputs": [
        {
          "output_type": "execute_result",
          "data": {
            "text/html": [
              "<div>\n",
              "<style scoped>\n",
              "    .dataframe tbody tr th:only-of-type {\n",
              "        vertical-align: middle;\n",
              "    }\n",
              "\n",
              "    .dataframe tbody tr th {\n",
              "        vertical-align: top;\n",
              "    }\n",
              "\n",
              "    .dataframe thead th {\n",
              "        text-align: right;\n",
              "    }\n",
              "</style>\n",
              "<table border=\"1\" class=\"dataframe\">\n",
              "  <thead>\n",
              "    <tr style=\"text-align: right;\">\n",
              "      <th></th>\n",
              "      <th>Frame</th>\n",
              "      <th>People in Frame</th>\n",
              "      <th>People in Group</th>\n",
              "      <th>Number of Group</th>\n",
              "    </tr>\n",
              "  </thead>\n",
              "  <tbody>\n",
              "    <tr>\n",
              "      <th>0</th>\n",
              "      <td>1</td>\n",
              "      <td>3</td>\n",
              "      <td>0</td>\n",
              "      <td>0</td>\n",
              "    </tr>\n",
              "    <tr>\n",
              "      <th>1</th>\n",
              "      <td>2</td>\n",
              "      <td>3</td>\n",
              "      <td>0</td>\n",
              "      <td>0</td>\n",
              "    </tr>\n",
              "    <tr>\n",
              "      <th>2</th>\n",
              "      <td>3</td>\n",
              "      <td>3</td>\n",
              "      <td>0</td>\n",
              "      <td>0</td>\n",
              "    </tr>\n",
              "    <tr>\n",
              "      <th>3</th>\n",
              "      <td>4</td>\n",
              "      <td>3</td>\n",
              "      <td>0</td>\n",
              "      <td>0</td>\n",
              "    </tr>\n",
              "    <tr>\n",
              "      <th>4</th>\n",
              "      <td>5</td>\n",
              "      <td>3</td>\n",
              "      <td>0</td>\n",
              "      <td>0</td>\n",
              "    </tr>\n",
              "  </tbody>\n",
              "</table>\n",
              "</div>"
            ],
            "text/plain": [
              "   Frame  People in Frame  People in Group  Number of Group\n",
              "0      1                3                0                0\n",
              "1      2                3                0                0\n",
              "2      3                3                0                0\n",
              "3      4                3                0                0\n",
              "4      5                3                0                0"
            ]
          },
          "metadata": {
            "tags": []
          },
          "execution_count": 36
        }
      ]
    },
    {
      "cell_type": "code",
      "metadata": {
        "id": "5OkhvMghYuNs",
        "colab_type": "code",
        "colab": {}
      },
      "source": [
        "labels['detected_people'] = people_array\n",
        "labels['detected_people_in_group'] = peopleingroups\n",
        "labels['detected_group'] = group_array"
      ],
      "execution_count": 0,
      "outputs": []
    },
    {
      "cell_type": "code",
      "metadata": {
        "id": "2lRJWEZeatxy",
        "colab_type": "code",
        "outputId": "325147b5-e813-4a7d-87d1-b4bad089bd66",
        "colab": {
          "base_uri": "https://localhost:8080/",
          "height": 258
        }
      },
      "source": [
        "labels.head()"
      ],
      "execution_count": 74,
      "outputs": [
        {
          "output_type": "execute_result",
          "data": {
            "text/html": [
              "<div>\n",
              "<style scoped>\n",
              "    .dataframe tbody tr th:only-of-type {\n",
              "        vertical-align: middle;\n",
              "    }\n",
              "\n",
              "    .dataframe tbody tr th {\n",
              "        vertical-align: top;\n",
              "    }\n",
              "\n",
              "    .dataframe thead th {\n",
              "        text-align: right;\n",
              "    }\n",
              "</style>\n",
              "<table border=\"1\" class=\"dataframe\">\n",
              "  <thead>\n",
              "    <tr style=\"text-align: right;\">\n",
              "      <th></th>\n",
              "      <th>Frame</th>\n",
              "      <th>People in Frame</th>\n",
              "      <th>People in Group</th>\n",
              "      <th>Number of Group</th>\n",
              "      <th>detected_people</th>\n",
              "      <th>detected_people_in_group</th>\n",
              "      <th>detected_group</th>\n",
              "      <th>diff_people</th>\n",
              "      <th>diff_people_in_group</th>\n",
              "      <th>diff_group</th>\n",
              "      <th>miss_detected</th>\n",
              "      <th>false_detected</th>\n",
              "      <th>detected_accuracy</th>\n",
              "      <th>miss_rate</th>\n",
              "      <th>detected_group_accuracy</th>\n",
              "      <th>false_rate</th>\n",
              "    </tr>\n",
              "  </thead>\n",
              "  <tbody>\n",
              "    <tr>\n",
              "      <th>0</th>\n",
              "      <td>1</td>\n",
              "      <td>3</td>\n",
              "      <td>0</td>\n",
              "      <td>0</td>\n",
              "      <td>3</td>\n",
              "      <td>0</td>\n",
              "      <td>0</td>\n",
              "      <td>0</td>\n",
              "      <td>0</td>\n",
              "      <td>0</td>\n",
              "      <td>0</td>\n",
              "      <td>0</td>\n",
              "      <td>1.0</td>\n",
              "      <td>0.0</td>\n",
              "      <td>1.0</td>\n",
              "      <td>0.0</td>\n",
              "    </tr>\n",
              "    <tr>\n",
              "      <th>1</th>\n",
              "      <td>2</td>\n",
              "      <td>3</td>\n",
              "      <td>0</td>\n",
              "      <td>0</td>\n",
              "      <td>3</td>\n",
              "      <td>0</td>\n",
              "      <td>0</td>\n",
              "      <td>0</td>\n",
              "      <td>0</td>\n",
              "      <td>0</td>\n",
              "      <td>0</td>\n",
              "      <td>0</td>\n",
              "      <td>1.0</td>\n",
              "      <td>0.0</td>\n",
              "      <td>1.0</td>\n",
              "      <td>0.0</td>\n",
              "    </tr>\n",
              "    <tr>\n",
              "      <th>2</th>\n",
              "      <td>3</td>\n",
              "      <td>3</td>\n",
              "      <td>0</td>\n",
              "      <td>0</td>\n",
              "      <td>3</td>\n",
              "      <td>0</td>\n",
              "      <td>0</td>\n",
              "      <td>0</td>\n",
              "      <td>0</td>\n",
              "      <td>0</td>\n",
              "      <td>0</td>\n",
              "      <td>0</td>\n",
              "      <td>1.0</td>\n",
              "      <td>0.0</td>\n",
              "      <td>1.0</td>\n",
              "      <td>0.0</td>\n",
              "    </tr>\n",
              "    <tr>\n",
              "      <th>3</th>\n",
              "      <td>4</td>\n",
              "      <td>3</td>\n",
              "      <td>0</td>\n",
              "      <td>0</td>\n",
              "      <td>3</td>\n",
              "      <td>0</td>\n",
              "      <td>0</td>\n",
              "      <td>0</td>\n",
              "      <td>0</td>\n",
              "      <td>0</td>\n",
              "      <td>0</td>\n",
              "      <td>0</td>\n",
              "      <td>1.0</td>\n",
              "      <td>0.0</td>\n",
              "      <td>1.0</td>\n",
              "      <td>0.0</td>\n",
              "    </tr>\n",
              "    <tr>\n",
              "      <th>4</th>\n",
              "      <td>5</td>\n",
              "      <td>3</td>\n",
              "      <td>0</td>\n",
              "      <td>0</td>\n",
              "      <td>3</td>\n",
              "      <td>0</td>\n",
              "      <td>0</td>\n",
              "      <td>0</td>\n",
              "      <td>0</td>\n",
              "      <td>0</td>\n",
              "      <td>0</td>\n",
              "      <td>0</td>\n",
              "      <td>1.0</td>\n",
              "      <td>0.0</td>\n",
              "      <td>1.0</td>\n",
              "      <td>0.0</td>\n",
              "    </tr>\n",
              "  </tbody>\n",
              "</table>\n",
              "</div>"
            ],
            "text/plain": [
              "   Frame  People in Frame  ...  detected_group_accuracy  false_rate\n",
              "0      1                3  ...                      1.0         0.0\n",
              "1      2                3  ...                      1.0         0.0\n",
              "2      3                3  ...                      1.0         0.0\n",
              "3      4                3  ...                      1.0         0.0\n",
              "4      5                3  ...                      1.0         0.0\n",
              "\n",
              "[5 rows x 16 columns]"
            ]
          },
          "metadata": {
            "tags": []
          },
          "execution_count": 74
        }
      ]
    },
    {
      "cell_type": "code",
      "metadata": {
        "id": "ym3h3lYlqdNl",
        "colab_type": "code",
        "colab": {}
      },
      "source": [
        "labels['diff_people'] = labels['People in Frame'] - labels['detected_people'] \n",
        "labels['diff_people_in_group'] = labels['People in Group'] - labels['detected_people_in_group'] \n",
        "labels['diff_group'] = labels['Number of Group'] - labels['detected_group'] "
      ],
      "execution_count": 0,
      "outputs": []
    },
    {
      "cell_type": "code",
      "metadata": {
        "id": "av6O-0qiYHuO",
        "colab_type": "code",
        "colab": {}
      },
      "source": [
        "labels['miss_detected'] = labels['diff_people'] * (labels['diff_people'] > 0)\n",
        "labels['false_detected'] = (-labels['diff_people']) * (labels['diff_people'] < 0)\n",
        "labels['detected_accuracy'] = labels['detected_people'] / labels['People in Frame'] \n",
        "labels['miss_rate'] = labels['miss_detected'] / labels['People in Frame']\n",
        "labels['false_rate'] = labels['false_detected'] / labels['People in Frame']"
      ],
      "execution_count": 0,
      "outputs": []
    },
    {
      "cell_type": "code",
      "metadata": {
        "id": "kaBBtNApawzl",
        "colab_type": "code",
        "colab": {
          "base_uri": "https://localhost:8080/",
          "height": 34
        },
        "outputId": "99f97c12-c489-4d74-ae0c-9fad0d4ba47b"
      },
      "source": [
        "labels['detected_accuracy'].mean()\n",
        "labels['miss_rate'].mean()\n",
        "labels['false_rate'].mean()"
      ],
      "execution_count": 79,
      "outputs": [
        {
          "output_type": "execute_result",
          "data": {
            "text/plain": [
              "0.9202046520914449"
            ]
          },
          "metadata": {
            "tags": []
          },
          "execution_count": 79
        }
      ]
    },
    {
      "cell_type": "code",
      "metadata": {
        "id": "3VLPtk55f04I",
        "colab_type": "code",
        "colab": {}
      },
      "source": [
        "labels['dpeople_in_group_accuracy'] = labels['detected_people_in_group']/labels['People in Group']\n",
        "labels.loc[(labels['People in Group'] == 0)  & (labels['detected_people_in_group'] == 0), 'dpeople_in_group_accuracy'] = 1\n",
        "labels.loc[(labels['People in Group'] == 0)  & (labels['detected_people_in_group'] > 0), 'dpeople_in_group_accuracy'] = 0"
      ],
      "execution_count": 0,
      "outputs": []
    },
    {
      "cell_type": "code",
      "metadata": {
        "id": "nj__k9mUhXOs",
        "colab_type": "code",
        "colab": {
          "base_uri": "https://localhost:8080/",
          "height": 34
        },
        "outputId": "d1ef2a35-28ce-4942-82a9-2294760c129e"
      },
      "source": [
        "labels['dpeople_in_group_accuracy'].mean()"
      ],
      "execution_count": 84,
      "outputs": [
        {
          "output_type": "execute_result",
          "data": {
            "text/plain": [
              "0.740251572327044"
            ]
          },
          "metadata": {
            "tags": []
          },
          "execution_count": 84
        }
      ]
    },
    {
      "cell_type": "code",
      "metadata": {
        "id": "Ybv9N32fbNLP",
        "colab_type": "code",
        "colab": {}
      },
      "source": [
        "labels['detected_group_accuracy'] = labels['detected_group']/labels['Number of Group']\n",
        "labels.loc[(labels['Number of Group'] == 0)  & (labels['detected_group'] == 0), 'detected_group_accuracy'] = 1\n",
        "labels.loc[(labels['Number of Group'] == 0)  & (labels['detected_group'] > 0), 'detected_group_accuracy'] = 0"
      ],
      "execution_count": 0,
      "outputs": []
    },
    {
      "cell_type": "code",
      "metadata": {
        "id": "MB3ev9Fkfkrc",
        "colab_type": "code",
        "colab": {
          "base_uri": "https://localhost:8080/",
          "height": 34
        },
        "outputId": "7a3e52cf-661a-4df1-e115-ce3b964d9e60"
      },
      "source": [
        "labels['detected_group_accuracy'].mean()"
      ],
      "execution_count": 69,
      "outputs": [
        {
          "output_type": "execute_result",
          "data": {
            "text/plain": [
              "0.7232704402515723"
            ]
          },
          "metadata": {
            "tags": []
          },
          "execution_count": 69
        }
      ]
    },
    {
      "cell_type": "code",
      "metadata": {
        "id": "gO71L6J1mmqI",
        "colab_type": "code",
        "colab": {}
      },
      "source": [
        "labels.to_csv('drive/My Drive/comp9517/ground_truth_metrics.csv') "
      ],
      "execution_count": 0,
      "outputs": []
    },
    {
      "cell_type": "code",
      "metadata": {
        "id": "nQyeW08XwFjK",
        "colab_type": "code",
        "outputId": "839896eb-194c-4dc4-b970-dc0108d32b27",
        "colab": {
          "base_uri": "https://localhost:8080/",
          "height": 34
        }
      },
      "source": [
        "print(sum(labels['People in Frame']),sum(labels['detected_people']),sum(labels['diff_people']))"
      ],
      "execution_count": 40,
      "outputs": [
        {
          "output_type": "stream",
          "text": [
            "4873 4380 493\n"
          ],
          "name": "stdout"
        }
      ]
    },
    {
      "cell_type": "code",
      "metadata": {
        "id": "cljaD4G8vnvw",
        "colab_type": "code",
        "outputId": "d544bc99-a6e9-4e7f-fd2a-bf62b25f3355",
        "colab": {
          "base_uri": "https://localhost:8080/",
          "height": 34
        }
      },
      "source": [
        "sum(labels['detected_people'])/sum(labels['People in Frame'])"
      ],
      "execution_count": 41,
      "outputs": [
        {
          "output_type": "execute_result",
          "data": {
            "text/plain": [
              "0.8988302893494767"
            ]
          },
          "metadata": {
            "tags": []
          },
          "execution_count": 41
        }
      ]
    },
    {
      "cell_type": "code",
      "metadata": {
        "id": "rQKvjmJHn732",
        "colab_type": "code",
        "outputId": "e8881f0c-e305-4717-b9ae-36fc462c3831",
        "colab": {
          "base_uri": "https://localhost:8080/",
          "height": 54
        }
      },
      "source": [
        "metrics.classification_report(labels['People in Frame'], labels['detected_people'])"
      ],
      "execution_count": 42,
      "outputs": [
        {
          "output_type": "execute_result",
          "data": {
            "text/plain": [
              "'              precision    recall  f1-score   support\\n\\n           2       0.94      0.84      0.89        19\\n           3       0.71      0.77      0.74        77\\n           4       0.56      0.70      0.62        70\\n           5       0.06      0.62      0.11        16\\n           6       0.59      0.55      0.57       250\\n           7       0.53      0.45      0.49       198\\n           8       0.46      0.13      0.21       127\\n           9       0.86      0.16      0.27        38\\n\\n    accuracy                           0.48       795\\n   macro avg       0.59      0.53      0.49       795\\nweighted avg       0.57      0.48      0.49       795\\n'"
            ]
          },
          "metadata": {
            "tags": []
          },
          "execution_count": 42
        }
      ]
    },
    {
      "cell_type": "code",
      "metadata": {
        "id": "xcjYpqhgw1zn",
        "colab_type": "code",
        "outputId": "bed74113-487e-4270-f9aa-64b2ac43c76a",
        "colab": {
          "base_uri": "https://localhost:8080/",
          "height": 34
        }
      },
      "source": [
        "print(sum(labels['People in Group']),sum(labels['detected_people_in_group']),sum(labels['diff_people_in_group']))"
      ],
      "execution_count": 43,
      "outputs": [
        {
          "output_type": "stream",
          "text": [
            "1435 967 468\n"
          ],
          "name": "stdout"
        }
      ]
    },
    {
      "cell_type": "code",
      "metadata": {
        "id": "t1wgpeJiXurc",
        "colab_type": "code",
        "colab": {
          "base_uri": "https://localhost:8080/",
          "height": 34
        },
        "outputId": "6022eaf8-66a6-46a9-b324-e161ec5fba8f"
      },
      "source": [
        "sum(labels['detected_people_in_group'])/sum(labels['People in Group'])"
      ],
      "execution_count": 44,
      "outputs": [
        {
          "output_type": "execute_result",
          "data": {
            "text/plain": [
              "0.6738675958188153"
            ]
          },
          "metadata": {
            "tags": []
          },
          "execution_count": 44
        }
      ]
    },
    {
      "cell_type": "code",
      "metadata": {
        "id": "uP9LVUTwSohc",
        "colab_type": "code",
        "outputId": "d728d02d-7b7e-422c-dd6f-7923ed462082",
        "colab": {
          "base_uri": "https://localhost:8080/",
          "height": 34
        }
      },
      "source": [
        "print(sum(labels['Number of Group']),sum(labels['detected_group']),sum(labels['diff_group']))"
      ],
      "execution_count": 0,
      "outputs": [
        {
          "output_type": "stream",
          "text": [
            "709 518 191\n"
          ],
          "name": "stdout"
        }
      ]
    },
    {
      "cell_type": "code",
      "metadata": {
        "id": "ncdlywmaX1Ve",
        "colab_type": "code",
        "colab": {
          "base_uri": "https://localhost:8080/",
          "height": 34
        },
        "outputId": "8df03986-be83-4bd4-c6fb-1bdf659e3e25"
      },
      "source": [
        "sum(labels['detected_group'])/sum(labels['Number of Group'])"
      ],
      "execution_count": 45,
      "outputs": [
        {
          "output_type": "execute_result",
          "data": {
            "text/plain": [
              "0.6558533145275035"
            ]
          },
          "metadata": {
            "tags": []
          },
          "execution_count": 45
        }
      ]
    },
    {
      "cell_type": "code",
      "metadata": {
        "id": "x4wyyazPiVy6",
        "colab_type": "code",
        "colab": {}
      },
      "source": [
        "# intialise data of lists. \n",
        "data = {'Metrics':['number of frames', 'number of pedestrian', 'number of detected pedestrian', 'average detection accuracy', 'average miss detection rate', 'average false detection rate'], \n",
        "        'Value':[len(labels['Frame']), sum(labels['People in Frame']), \n",
        "                sum(labels['detected_people']), labels['detected_accuracy'].mean(), \n",
        "                labels['miss_rate'].mean(), labels['false_rate'].mean()\n",
        "                ]} \n",
        "  \n",
        "# Create DataFrame \n",
        "df = pd.DataFrame(data) \n",
        "  \n",
        "# Print the output. \n",
        "df.to_csv('drive/My Drive/comp9517/pedestrian_detection.csv') "
      ],
      "execution_count": 0,
      "outputs": []
    },
    {
      "cell_type": "code",
      "metadata": {
        "id": "CU6YpOqqlk5Z",
        "colab_type": "code",
        "colab": {
          "base_uri": "https://localhost:8080/",
          "height": 173
        },
        "outputId": "5d80e590-6d84-444d-eec1-cf4d55165660"
      },
      "source": [
        "# intialise data of lists. \n",
        "data = {'Metrics':['number of frames', 'number of groups', 'number of detected groups', 'average detection accuracy'], \n",
        "        'Value':[len(labels['Frame']), sum(labels['Number of Group']), \n",
        "                sum(labels['detected_group']), labels['detected_group_accuracy'].mean()\n",
        "                ]} \n",
        "  \n",
        "# Create DataFrame \n",
        "df = pd.DataFrame(data) \n",
        "\n",
        "# Print the output. \n",
        "# df\n",
        "df.to_csv('drive/My Drive/comp9517/group_detection.csv') "
      ],
      "execution_count": 104,
      "outputs": [
        {
          "output_type": "execute_result",
          "data": {
            "text/html": [
              "<div>\n",
              "<style scoped>\n",
              "    .dataframe tbody tr th:only-of-type {\n",
              "        vertical-align: middle;\n",
              "    }\n",
              "\n",
              "    .dataframe tbody tr th {\n",
              "        vertical-align: top;\n",
              "    }\n",
              "\n",
              "    .dataframe thead th {\n",
              "        text-align: right;\n",
              "    }\n",
              "</style>\n",
              "<table border=\"1\" class=\"dataframe\">\n",
              "  <thead>\n",
              "    <tr style=\"text-align: right;\">\n",
              "      <th></th>\n",
              "      <th>Metrics</th>\n",
              "      <th>Value</th>\n",
              "    </tr>\n",
              "  </thead>\n",
              "  <tbody>\n",
              "    <tr>\n",
              "      <th>0</th>\n",
              "      <td>number of frames</td>\n",
              "      <td>795.00000</td>\n",
              "    </tr>\n",
              "    <tr>\n",
              "      <th>1</th>\n",
              "      <td>number of groups</td>\n",
              "      <td>709.00000</td>\n",
              "    </tr>\n",
              "    <tr>\n",
              "      <th>2</th>\n",
              "      <td>number of detected groups</td>\n",
              "      <td>465.00000</td>\n",
              "    </tr>\n",
              "    <tr>\n",
              "      <th>3</th>\n",
              "      <td>average detection accuracy</td>\n",
              "      <td>0.72327</td>\n",
              "    </tr>\n",
              "  </tbody>\n",
              "</table>\n",
              "</div>"
            ],
            "text/plain": [
              "                      Metrics      Value\n",
              "0            number of frames  795.00000\n",
              "1            number of groups  709.00000\n",
              "2   number of detected groups  465.00000\n",
              "3  average detection accuracy    0.72327"
            ]
          },
          "metadata": {
            "tags": []
          },
          "execution_count": 104
        }
      ]
    }
  ]
}