{
 "cells": [
  {
   "cell_type": "code",
   "execution_count": 1,
   "metadata": {},
   "outputs": [],
   "source": [
    "import cv2\n",
    "import numpy as np"
   ]
  },
  {
   "cell_type": "code",
   "execution_count": null,
   "metadata": {},
   "outputs": [],
   "source": [
    "cap = cv2.VideoCapture(\"./project.avi\")\n",
    "if cap.isOpened():\n",
    "    ret,frame = cap.read()\n",
    "else:\n",
    "    ret =False\n",
    "# background subtraction initialisation\n",
    "sub = cv2.createBackgroundSubtractorMOG2()\n",
    "# read video\n",
    "ret, frame = cap.read()\n",
    "while ret:\n",
    "    ret, frame = cap.read()\n",
    "    if ret:\n",
    "        # image resize with no scaling\n",
    "        image = cv2.resize(frame, (0, 0), None, 1.0, 1.0)\n",
    "        # convert image from color to grey\n",
    "        grey = cv2.cvtColor(image, cv2.COLOR_BGR2GRAY)\n",
    "        #apply background substraction to the grey colored image\n",
    "        fgmask = sub.apply(grey)\n",
    "        # initialize a kernel to apply to morphological trnasformation to reduce noise\n",
    "        kernel = cv2.getStructuringElement(cv2.MORPH_ELLIPSE, (5, 5))\n",
    "        # Closing is reverse of Opening, Dilation followed by Erosion\n",
    "        closing = cv2.morphologyEx(fgmask, cv2.MORPH_CLOSE, kernel)\n",
    "        # Opening is just another name of erosion followed by dilation\n",
    "        opening = cv2.morphologyEx(closing, cv2.MORPH_OPEN, kernel)\n",
    "        # increases the white region in the image or size of foreground object increases\n",
    "        dilation = cv2.dilate(opening, kernel)\n",
    "        # setting all pixel values above 220 to be 255 - shadow removal\n",
    "        retvalbin, bins = cv2.threshold(dilation, 220, 255, cv2.THRESH_BINARY)\n",
    "        _, contours, hierarchy = cv2.findContours(dilation, cv2.RETR_TREE, cv2.CHAIN_APPROX_SIMPLE)\n",
    "        minimum_area = 400\n",
    "        maximum_area = 50000\n",
    "        cont_num = 0\n",
    "        # goes through all contours in a single frame\n",
    "        for x in range(len(contours)):\n",
    "            # checks only for the parent contour\n",
    "            if hierarchy[0, x, 3] == -1:\n",
    "                #calculate area for each contour to place the bounding box\n",
    "                contour_area = cv2.contourArea(contours[x])\n",
    "                if minimum_area<contour_area<maximum_area:\n",
    "                    cont_num+=1\n",
    "                    cont = contours[x]\n",
    "                    # compute the centre of the contour \n",
    "                    M = cv2.moments(cont)\n",
    "                    cx = int(M['m10'] / M['m00'])\n",
    "                    cy = int(M['m01'] / M['m00'])\n",
    "                    # find coordinats of straight bounding rectangle of a contour\n",
    "                    x_coord, y_coord, width, height = cv2.boundingRect(cont)\n",
    "                    # draw a rectangle around the contour\n",
    "                    cv2.rectangle(image, (x_coord, y_coord), (x_coord + width, y_coord + height), (0, 255, 0), 2)\n",
    "                    cv2.putText(image, str(cx) + \",\" + str(cy), (cx + 10, cy + 10), cv2.FONT_HERSHEY_SIMPLEX,.3, (0, 0, 255), 1)\n",
    "                    #cv2.putText(image, \"#{}\".format(x + 1), (cx - 20, cy), cv2.FONT_HERSHEY_SIMPLEX,\n",
    "                    #1.0, (255, 255, 255), 2)\n",
    "                    cv2.drawMarker(image, (cx, cy), (0, 255, 255), cv2.MARKER_SQUARE, markerSize=6, thickness=2,line_type=cv2.LINE_8)\n",
    "                \n",
    "    cv2.imshow(\"human detection\", image)\n",
    "    key = cv2.waitKey(20)\n",
    "    if key == 27:\n",
    "        break\n",
    "cv2.destroyAllWindows()\n",
    "cap.release()"
   ]
  },
  {
   "cell_type": "code",
   "execution_count": null,
   "metadata": {},
   "outputs": [],
   "source": []
  }
 ],
 "metadata": {
  "kernelspec": {
   "display_name": "Python 3",
   "language": "python",
   "name": "python3"
  },
  "language_info": {
   "codemirror_mode": {
    "name": "ipython",
    "version": 3
   },
   "file_extension": ".py",
   "mimetype": "text/x-python",
   "name": "python",
   "nbconvert_exporter": "python",
   "pygments_lexer": "ipython3",
   "version": "3.7.7"
  }
 },
 "nbformat": 4,
 "nbformat_minor": 4
}
